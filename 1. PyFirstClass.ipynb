{
  "nbformat": 4,
  "nbformat_minor": 0,
  "metadata": {
    "colab": {
      "name": "Untitled0.ipynb",
      "provenance": [],
      "include_colab_link": true
    },
    "kernelspec": {
      "name": "python3",
      "display_name": "Python 3"
    }
  },
  "cells": [
    {
      "cell_type": "markdown",
      "metadata": {
        "id": "view-in-github",
        "colab_type": "text"
      },
      "source": [
        "<a href=\"https://colab.research.google.com/github/brucewang2001/PythonMachinLearning/blob/master/1.%20PyFirstClass.ipynb\" target=\"_parent\"><img src=\"https://colab.research.google.com/assets/colab-badge.svg\" alt=\"Open In Colab\"/></a>"
      ]
    },
    {
      "cell_type": "code",
      "metadata": {
        "id": "YdVrqEtJRb94",
        "colab_type": "code",
        "colab": {}
      },
      "source": [
        "# 歡迎光臨 王崑仰 的第一堂 Python課 \n",
        "# Python 簡單，簡單到有瀏覽器、Google及Github帳號就能開始寫程式囉！\n",
        "# Python 簡單，簡單到直接拿來當計算機"
      ],
      "execution_count": 0,
      "outputs": []
    },
    {
      "cell_type": "code",
      "metadata": {
        "id": "4prIkPQeQE8q",
        "colab_type": "code",
        "outputId": "bfe8c244-0826-4749-936e-a54e83c8e96f",
        "colab": {
          "base_uri": "https://localhost:8080/",
          "height": 34
        }
      },
      "source": [
        "# 直接打數學算式\n",
        "1+1"
      ],
      "execution_count": 0,
      "outputs": [
        {
          "output_type": "execute_result",
          "data": {
            "text/plain": [
              "2"
            ]
          },
          "metadata": {
            "tags": []
          },
          "execution_count": 2
        }
      ]
    },
    {
      "cell_type": "code",
      "metadata": {
        "id": "B6b7kNhNQdL_",
        "colab_type": "code",
        "colab": {}
      },
      "source": [
        "# 試試中學生的一元一次方程式\n",
        "x = 5\n"
      ],
      "execution_count": 0,
      "outputs": []
    }
  ]
}